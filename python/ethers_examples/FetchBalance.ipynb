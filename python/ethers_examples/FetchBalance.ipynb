{
 "cells": [
  {
   "cell_type": "code",
   "execution_count": 1,
   "metadata": {},
   "outputs": [
    {
     "data": {
      "text/plain": [
       "True"
      ]
     },
     "execution_count": 1,
     "metadata": {},
     "output_type": "execute_result"
    }
   ],
   "source": [
    "import os\n",
    "from web3 import Web3\n",
    "from dotenv import load_dotenv\n",
    "\n",
    "# Load the environment variables from the .env file by calling the load_dotenv function\n",
    "load_dotenv()"
   ]
  },
  {
   "cell_type": "code",
   "execution_count": 2,
   "metadata": {},
   "outputs": [
    {
     "name": "stdout",
     "output_type": "stream",
     "text": [
      "True\n",
      "7226876\n"
     ]
    }
   ],
   "source": [
    "# Fill in your infura API key here\n",
    "infura_url = f\"https://goerli.infura.io/v3/{os.getenv('INFURA_ID')}\"\n",
    "web3 = Web3(Web3.HTTPProvider(infura_url))\n",
    "\n",
    "print(web3.isConnected())\n",
    "\n",
    "print(web3.eth.blockNumber)"
   ]
  },
  {
   "cell_type": "code",
   "execution_count": 3,
   "metadata": {},
   "outputs": [
    {
     "name": "stdout",
     "output_type": "stream",
     "text": [
      "0.079760445498938079\n"
     ]
    }
   ],
   "source": [
    "# Fill in your account here\n",
    "wallet_address1 = '0xabFD7f1987d7Ad1c5122cE19873bfD12e3C2fAd4'\n",
    "balance = web3.eth.getBalance(wallet_address1)\n",
    "print(web3.fromWei(balance, \"ether\"))"
   ]
  }
 ],
 "metadata": {
  "kernelspec": {
   "display_name": "Python 3.8.0 ('dev')",
   "language": "python",
   "name": "python3"
  },
  "language_info": {
   "codemirror_mode": {
    "name": "ipython",
    "version": 3
   },
   "file_extension": ".py",
   "mimetype": "text/x-python",
   "name": "python",
   "nbconvert_exporter": "python",
   "pygments_lexer": "ipython3",
   "version": "3.8.0"
  },
  "orig_nbformat": 4,
  "vscode": {
   "interpreter": {
    "hash": "5d833228e7a13da49397b7ca3b244698704c9b0e092acbb1487cc5277935913b"
   }
  }
 },
 "nbformat": 4,
 "nbformat_minor": 2
}
