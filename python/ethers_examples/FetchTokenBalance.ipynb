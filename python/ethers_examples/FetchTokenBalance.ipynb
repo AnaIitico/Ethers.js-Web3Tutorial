{
 "cells": [
  {
   "cell_type": "code",
   "execution_count": 1,
   "metadata": {},
   "outputs": [
    {
     "data": {
      "text/plain": [
       "True"
      ]
     },
     "execution_count": 1,
     "metadata": {},
     "output_type": "execute_result"
    }
   ],
   "source": [
    "import os, json\n",
    "from pathlib import Path\n",
    "from web3 import Web3\n",
    "from dotenv import load_dotenv\n",
    "\n",
    "# Load the environment variables from the .env file by calling the load_dotenv function\n",
    "load_dotenv()"
   ]
  },
  {
   "cell_type": "code",
   "execution_count": 2,
   "metadata": {},
   "outputs": [
    {
     "name": "stdout",
     "output_type": "stream",
     "text": [
      "True\n",
      "7254046\n"
     ]
    }
   ],
   "source": [
    "# Fill in your infura API key here\n",
    "infura_url = f\"https://goerli.infura.io/v3/{os.getenv('INFURA_ID')}\"\n",
    "web3 = Web3(Web3.HTTPProvider(infura_url))\n",
    "\n",
    "print(web3.isConnected())\n",
    "\n",
    "print(web3.eth.blockNumber)"
   ]
  },
  {
   "cell_type": "code",
   "execution_count": 6,
   "metadata": {},
   "outputs": [],
   "source": [
    "# Load ERC20 ABI\n",
    "with open(Path('./abi/ERC20Abi.json')) as f:\n",
    "    abi = json.load(f)# Token Contract Address\n",
    "contract_address = '0xdc31Ee1784292379Fbb2964b3B9C4124D8F89C60'; # DAI Contract Goerli\n",
    "contract = web3.eth.contract(address=contract_address, abi=abi)\n",
    "\n",
    "# Wallet Address\n",
    "wallet_address1 = '0xabFD7f1987d7Ad1c5122cE19873bfD12e3C2fAd4'\n",
    "wallet_address2 = '0x6368a3892ddbf95D271EdF1E651a368096a6C237'"
   ]
  },
  {
   "cell_type": "code",
   "execution_count": 7,
   "metadata": {},
   "outputs": [
    {
     "name": "stdout",
     "output_type": "stream",
     "text": [
      "Token Name: Dai\n",
      "Token Symbol: DAI\n",
      "Token Total Supply: 2004973416100.0000121\n",
      "Wallet 1 Token Balance: 1295.249451889865545049\n",
      "Wallet 2 Token Balance: 9164.5095776264629903\n"
     ]
    }
   ],
   "source": [
    "totalSupply = contract.functions.totalSupply().call()\n",
    "balance1 = contract.functions.balanceOf(wallet_address1).call()\n",
    "balance2 = contract.functions.balanceOf(wallet_address2).call()\n",
    "\n",
    "print('Token Name:',contract.functions.name().call())\n",
    "print('Token Symbol:',contract.functions.symbol().call())\n",
    "print('Token Total Supply:', web3.fromWei(totalSupply, 'ether'))\n",
    "print('Wallet 1 Token Balance:', web3.fromWei(balance1, 'ether'))\n",
    "print('Wallet 2 Token Balance:', web3.fromWei(balance2, 'ether'))"
   ]
  }
 ],
 "metadata": {
  "kernelspec": {
   "display_name": "Python 3.8.0 ('dev')",
   "language": "python",
   "name": "python3"
  },
  "language_info": {
   "codemirror_mode": {
    "name": "ipython",
    "version": 3
   },
   "file_extension": ".py",
   "mimetype": "text/x-python",
   "name": "python",
   "nbconvert_exporter": "python",
   "pygments_lexer": "ipython3",
   "version": "3.8.0"
  },
  "orig_nbformat": 4,
  "vscode": {
   "interpreter": {
    "hash": "5d833228e7a13da49397b7ca3b244698704c9b0e092acbb1487cc5277935913b"
   }
  }
 },
 "nbformat": 4,
 "nbformat_minor": 2
}
